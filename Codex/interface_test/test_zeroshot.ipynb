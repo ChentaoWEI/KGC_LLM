{
 "cells": [
  {
   "cell_type": "code",
   "execution_count": 60,
   "metadata": {},
   "outputs": [],
   "source": [
    "import random\n",
    "import warnings\n",
    "warnings.filterwarnings(\"ignore\")\n",
    "\n",
    "import numpy as np\n",
    "import pandas as pd\n",
    "\n",
    "from codex.codex import Codex\n",
    "from utils import bfs_node_limit, bfs_depth_limit, triple_TF, find_paths_df_multi\n",
    "\n",
    "sizes = Codex.SIZES\n",
    "codes = Codex.CODES\n",
    "\n",
    "codex = Codex(size='s', code='en')"
   ]
  },
  {
   "cell_type": "code",
   "execution_count": 61,
   "metadata": {},
   "outputs": [
    {
     "data": {
      "text/html": [
       "<div>\n",
       "<style scoped>\n",
       "    .dataframe tbody tr th:only-of-type {\n",
       "        vertical-align: middle;\n",
       "    }\n",
       "\n",
       "    .dataframe tbody tr th {\n",
       "        vertical-align: top;\n",
       "    }\n",
       "\n",
       "    .dataframe thead th {\n",
       "        text-align: right;\n",
       "    }\n",
       "</style>\n",
       "<table border=\"1\" class=\"dataframe\">\n",
       "  <thead>\n",
       "    <tr style=\"text-align: right;\">\n",
       "      <th></th>\n",
       "      <th>head</th>\n",
       "      <th>relation</th>\n",
       "      <th>tail</th>\n",
       "    </tr>\n",
       "  </thead>\n",
       "  <tbody>\n",
       "    <tr>\n",
       "      <th>0</th>\n",
       "      <td>Q104081</td>\n",
       "      <td>P27</td>\n",
       "      <td>Q35</td>\n",
       "    </tr>\n",
       "    <tr>\n",
       "      <th>1</th>\n",
       "      <td>Q214191</td>\n",
       "      <td>P27</td>\n",
       "      <td>Q408</td>\n",
       "    </tr>\n",
       "    <tr>\n",
       "      <th>2</th>\n",
       "      <td>Q135481</td>\n",
       "      <td>P27</td>\n",
       "      <td>Q30</td>\n",
       "    </tr>\n",
       "    <tr>\n",
       "      <th>3</th>\n",
       "      <td>Q1297</td>\n",
       "      <td>P17</td>\n",
       "      <td>Q142</td>\n",
       "    </tr>\n",
       "    <tr>\n",
       "      <th>4</th>\n",
       "      <td>Q41076</td>\n",
       "      <td>P26</td>\n",
       "      <td>Q44221</td>\n",
       "    </tr>\n",
       "    <tr>\n",
       "      <th>...</th>\n",
       "      <td>...</td>\n",
       "      <td>...</td>\n",
       "      <td>...</td>\n",
       "    </tr>\n",
       "    <tr>\n",
       "      <th>1823</th>\n",
       "      <td>Q633</td>\n",
       "      <td>P264</td>\n",
       "      <td>Q208909</td>\n",
       "    </tr>\n",
       "    <tr>\n",
       "      <th>1824</th>\n",
       "      <td>Q214548</td>\n",
       "      <td>P27</td>\n",
       "      <td>Q739</td>\n",
       "    </tr>\n",
       "    <tr>\n",
       "      <th>1825</th>\n",
       "      <td>Q80424</td>\n",
       "      <td>P27</td>\n",
       "      <td>Q414</td>\n",
       "    </tr>\n",
       "    <tr>\n",
       "      <th>1826</th>\n",
       "      <td>Q213684</td>\n",
       "      <td>P1412</td>\n",
       "      <td>Q809</td>\n",
       "    </tr>\n",
       "    <tr>\n",
       "      <th>1827</th>\n",
       "      <td>Q188482</td>\n",
       "      <td>P136</td>\n",
       "      <td>Q45981</td>\n",
       "    </tr>\n",
       "  </tbody>\n",
       "</table>\n",
       "<p>1828 rows × 3 columns</p>\n",
       "</div>"
      ],
      "text/plain": [
       "         head relation     tail\n",
       "0     Q104081      P27      Q35\n",
       "1     Q214191      P27     Q408\n",
       "2     Q135481      P27      Q30\n",
       "3       Q1297      P17     Q142\n",
       "4      Q41076      P26   Q44221\n",
       "...       ...      ...      ...\n",
       "1823     Q633     P264  Q208909\n",
       "1824  Q214548      P27     Q739\n",
       "1825   Q80424      P27     Q414\n",
       "1826  Q213684    P1412     Q809\n",
       "1827  Q188482     P136   Q45981\n",
       "\n",
       "[1828 rows x 3 columns]"
      ]
     },
     "execution_count": 61,
     "metadata": {},
     "output_type": "execute_result"
    }
   ],
   "source": [
    "test = codex.negative_split('test')\n",
    "test"
   ]
  },
  {
   "cell_type": "code",
   "execution_count": 62,
   "metadata": {},
   "outputs": [
    {
     "data": {
      "text/plain": [
       "head        Q242110\n",
       "relation       P264\n",
       "tail        Q202440\n",
       "Name: 758, dtype: object"
      ]
     },
     "execution_count": 62,
     "metadata": {},
     "output_type": "execute_result"
    }
   ],
   "source": [
    "sampled_triple = test.sample(n=1).squeeze()\n",
    "sampled_triple"
   ]
  },
  {
   "cell_type": "code",
   "execution_count": 63,
   "metadata": {},
   "outputs": [],
   "source": [
    "head = codex.entity_label(sampled_triple['head'])\n",
    "tail = codex.entity_label(sampled_triple['tail'])\n",
    "relation = codex.relation_label(sampled_triple['relation'])"
   ]
  },
  {
   "cell_type": "code",
   "execution_count": 64,
   "metadata": {},
   "outputs": [],
   "source": [
    "prompt = f'Is the triple (head: {head}, relation: {relation}, tail: {tail}) True or False?'"
   ]
  },
  {
   "cell_type": "code",
   "execution_count": 65,
   "metadata": {},
   "outputs": [
    {
     "data": {
      "text/plain": [
       "'Is the triple (head: Ayọ, relation: record label, tail: Atlantic Records) True or False?'"
      ]
     },
     "execution_count": 65,
     "metadata": {},
     "output_type": "execute_result"
    }
   ],
   "source": [
    "prompt"
   ]
  }
 ],
 "metadata": {
  "kernelspec": {
   "display_name": "research",
   "language": "python",
   "name": "python3"
  },
  "language_info": {
   "codemirror_mode": {
    "name": "ipython",
    "version": 3
   },
   "file_extension": ".py",
   "mimetype": "text/x-python",
   "name": "python",
   "nbconvert_exporter": "python",
   "pygments_lexer": "ipython3",
   "version": "3.8.16"
  }
 },
 "nbformat": 4,
 "nbformat_minor": 2
}
