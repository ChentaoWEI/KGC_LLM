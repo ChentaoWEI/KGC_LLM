{
 "cells": [
  {
   "cell_type": "code",
   "execution_count": 57,
   "metadata": {},
   "outputs": [],
   "source": [
    "import pandas as pd\n",
    "import numpy as np\n",
    "from utils import hit_at_n\n",
    "import os\n",
    "import ast"
   ]
  },
  {
   "cell_type": "code",
   "execution_count": 58,
   "metadata": {},
   "outputs": [],
   "source": [
    "exp_list = ['zero_shot_one_relation', 'zero_shot_multi_relation', 'few_shot_one_relation', 'few_shot_multi_relation', 'zero_cot_one_relation', 'zero_cot_multi_relation']\n",
    "dataset = 'WN18RR'\n",
    "map1_res = {}\n",
    "map2_res = {}\n",
    "\n",
    "for exp in exp_list:\n",
    "    df_path = os.path.join('results', dataset, exp, 'result_gpt4.csv')\n",
    "    \n",
    "    if not os.path.exists(df_path):\n",
    "        continue\n",
    "    \n",
    "    df = pd.read_csv(df_path)\n",
    "    \n",
    "    df.verification = df.verification.apply(lambda x: ast.literal_eval(x))\n",
    "    df.pred_relation = df.pred_relation.apply(lambda x: ast.literal_eval(x))\n",
    "    df.pred_relation_2 = df.pred_relation_2.apply(lambda x: ast.literal_eval(x))\n",
    "    \n",
    "    map1_res[exp] = hit_at_n(df, 'pred_relation', 'true_relation',3)\n",
    "    map2_res[exp] = hit_at_n(df, 'pred_relation_2', 'true_relation',3)"
   ]
  },
  {
   "cell_type": "code",
   "execution_count": 59,
   "metadata": {},
   "outputs": [
    {
     "data": {
      "text/plain": [
       "{'zero_shot_one_relation': 0.24,\n",
       " 'zero_shot_multi_relation': 0.22,\n",
       " 'few_shot_one_relation': 0.53,\n",
       " 'few_shot_multi_relation': 0.45,\n",
       " 'zero_cot_one_relation': 0.25,\n",
       " 'zero_cot_multi_relation': 0.15}"
      ]
     },
     "execution_count": 59,
     "metadata": {},
     "output_type": "execute_result"
    }
   ],
   "source": [
    "map1_res"
   ]
  },
  {
   "cell_type": "code",
   "execution_count": 60,
   "metadata": {},
   "outputs": [
    {
     "data": {
      "text/plain": [
       "{'zero_shot_one_relation': 0.25,\n",
       " 'zero_shot_multi_relation': 0.25,\n",
       " 'few_shot_one_relation': 0.43,\n",
       " 'few_shot_multi_relation': 0.45,\n",
       " 'zero_cot_one_relation': 0.22,\n",
       " 'zero_cot_multi_relation': 0.21}"
      ]
     },
     "execution_count": 60,
     "metadata": {},
     "output_type": "execute_result"
    }
   ],
   "source": [
    "map2_res"
   ]
  }
 ],
 "metadata": {
  "kernelspec": {
   "display_name": "research",
   "language": "python",
   "name": "python3"
  },
  "language_info": {
   "codemirror_mode": {
    "name": "ipython",
    "version": 3
   },
   "file_extension": ".py",
   "mimetype": "text/x-python",
   "name": "python",
   "nbconvert_exporter": "python",
   "pygments_lexer": "ipython3",
   "version": "3.8.16"
  }
 },
 "nbformat": 4,
 "nbformat_minor": 2
}
