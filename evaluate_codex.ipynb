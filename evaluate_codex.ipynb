{
 "cells": [
  {
   "cell_type": "code",
   "execution_count": 1,
   "metadata": {},
   "outputs": [],
   "source": [
    "import pandas as pd\n",
    "import numpy as np\n",
    "from utils import hit_at_n, process_codex_verification\n",
    "import os\n",
    "import ast"
   ]
  },
  {
   "cell_type": "code",
   "execution_count": 2,
   "metadata": {},
   "outputs": [
    {
     "data": {
      "text/plain": [
       "['results/codex/zeroshot_one_relation_nonambiguous',\n",
       " 'results/codex/zero_cot_one_relation_non_ambiguous',\n",
       " 'results/codex/few_shot_one_relation_with_ambiguous',\n",
       " 'results/codex/zeroshot_multi_relation_with_ambiguous',\n",
       " 'results/codex/zero_cot_one_relation_with_ambiguous',\n",
       " 'results/codex/few_shot_multi_relation_with_ambiguous',\n",
       " 'results/codex/few_shot_multi_relation_none_ambiguous',\n",
       " 'results/codex/zeroshot_multi_relation_non_ambiguous',\n",
       " 'results/codex/zeroshot_one_relation_withambiguous',\n",
       " 'results/codex/few_shot_one_relation_non_ambiguous']"
      ]
     },
     "execution_count": 2,
     "metadata": {},
     "output_type": "execute_result"
    }
   ],
   "source": [
    "root = 'results/codex'\n",
    "subdirectories = []\n",
    "for dirpath, dirnames, filenames in os.walk(root):\n",
    "    for dirname in dirnames:\n",
    "        subdirectories.append(os.path.join(dirpath, dirname))"
   ]
  },
  {
   "cell_type": "code",
   "execution_count": null,
   "metadata": {},
   "outputs": [],
   "source": [
    "map1_res = {}\n",
    "map2_res = {}\n",
    "for path in subdirectories:\n",
    "    # print(path)\n",
    "    df = pd.read_csv(path + '/results.csv')\n",
    "    df.verification = df.verification.apply(lambda x: ast.literal_eval(x))\n",
    "    df.pred_relation = df.pred_relation.apply(lambda x: ast.literal_eval(x))\n",
    "    df.pred_verification = df.pred_verification.apply(lambda x: ast.literal_eval(x))\n",
    "    \n",
    "    df = process_codex_verification(df)\n",
    "    map1_res[path] = hit_at_n(df, 'pred_relation', 'true_relation',3)\n",
    "    map2_res[path] = hit_at_n(df, 'pred_relation_2', 'true_relation',3)"
   ]
  },
  {
   "cell_type": "code",
   "execution_count": null,
   "metadata": {},
   "outputs": [],
   "source": []
  },
  {
   "cell_type": "code",
   "execution_count": null,
   "metadata": {},
   "outputs": [],
   "source": []
  },
  {
   "cell_type": "code",
   "execution_count": null,
   "metadata": {},
   "outputs": [],
   "source": []
  }
 ],
 "metadata": {
  "kernelspec": {
   "display_name": "research",
   "language": "python",
   "name": "python3"
  },
  "language_info": {
   "codemirror_mode": {
    "name": "ipython",
    "version": 3
   },
   "file_extension": ".py",
   "mimetype": "text/x-python",
   "name": "python",
   "nbconvert_exporter": "python",
   "pygments_lexer": "ipython3",
   "version": "3.8.16"
  }
 },
 "nbformat": 4,
 "nbformat_minor": 2
}
