{
 "cells": [
  {
   "cell_type": "code",
   "execution_count": 21,
   "metadata": {},
   "outputs": [],
   "source": [
    "import random\n",
    "import warnings\n",
    "warnings.filterwarnings(\"ignore\")\n",
    "\n",
    "import numpy as np\n",
    "import pandas as pd\n",
    "\n",
    "from codex.codex import Codex\n",
    "from utils import dfs_triples_limit, get_info\n",
    "import networkx as nx\n",
    "import matplotlib.pyplot as plt\n",
    "sizes = Codex.SIZES\n",
    "codes = Codex.CODES"
   ]
  },
  {
   "cell_type": "code",
   "execution_count": 22,
   "metadata": {},
   "outputs": [
    {
     "data": {
      "text/html": [
       "<div>\n",
       "<style scoped>\n",
       "    .dataframe tbody tr th:only-of-type {\n",
       "        vertical-align: middle;\n",
       "    }\n",
       "\n",
       "    .dataframe tbody tr th {\n",
       "        vertical-align: top;\n",
       "    }\n",
       "\n",
       "    .dataframe thead th {\n",
       "        text-align: right;\n",
       "    }\n",
       "</style>\n",
       "<table border=\"1\" class=\"dataframe\">\n",
       "  <thead>\n",
       "    <tr style=\"text-align: right;\">\n",
       "      <th></th>\n",
       "      <th>head</th>\n",
       "      <th>relation</th>\n",
       "      <th>tail</th>\n",
       "    </tr>\n",
       "  </thead>\n",
       "  <tbody>\n",
       "    <tr>\n",
       "      <th>0</th>\n",
       "      <td>Q7604</td>\n",
       "      <td>P1412</td>\n",
       "      <td>Q188</td>\n",
       "    </tr>\n",
       "    <tr>\n",
       "      <th>1</th>\n",
       "      <td>Q78608</td>\n",
       "      <td>P509</td>\n",
       "      <td>Q12078</td>\n",
       "    </tr>\n",
       "    <tr>\n",
       "      <th>2</th>\n",
       "      <td>Q739</td>\n",
       "      <td>P463</td>\n",
       "      <td>Q656801</td>\n",
       "    </tr>\n",
       "    <tr>\n",
       "      <th>3</th>\n",
       "      <td>Q192279</td>\n",
       "      <td>P1412</td>\n",
       "      <td>Q7737</td>\n",
       "    </tr>\n",
       "    <tr>\n",
       "      <th>4</th>\n",
       "      <td>Q55</td>\n",
       "      <td>P463</td>\n",
       "      <td>Q1969730</td>\n",
       "    </tr>\n",
       "    <tr>\n",
       "      <th>...</th>\n",
       "      <td>...</td>\n",
       "      <td>...</td>\n",
       "      <td>...</td>\n",
       "    </tr>\n",
       "    <tr>\n",
       "      <th>32883</th>\n",
       "      <td>Q160433</td>\n",
       "      <td>P106</td>\n",
       "      <td>Q36834</td>\n",
       "    </tr>\n",
       "    <tr>\n",
       "      <th>32884</th>\n",
       "      <td>Q208681</td>\n",
       "      <td>P106</td>\n",
       "      <td>Q855091</td>\n",
       "    </tr>\n",
       "    <tr>\n",
       "      <th>32885</th>\n",
       "      <td>Q298209</td>\n",
       "      <td>P136</td>\n",
       "      <td>Q842324</td>\n",
       "    </tr>\n",
       "    <tr>\n",
       "      <th>32886</th>\n",
       "      <td>Q9204</td>\n",
       "      <td>P106</td>\n",
       "      <td>Q1622272</td>\n",
       "    </tr>\n",
       "    <tr>\n",
       "      <th>32887</th>\n",
       "      <td>Q58062</td>\n",
       "      <td>P509</td>\n",
       "      <td>Q12202</td>\n",
       "    </tr>\n",
       "  </tbody>\n",
       "</table>\n",
       "<p>32888 rows × 3 columns</p>\n",
       "</div>"
      ],
      "text/plain": [
       "          head relation      tail\n",
       "0        Q7604    P1412      Q188\n",
       "1       Q78608     P509    Q12078\n",
       "2         Q739     P463   Q656801\n",
       "3      Q192279    P1412     Q7737\n",
       "4          Q55     P463  Q1969730\n",
       "...        ...      ...       ...\n",
       "32883  Q160433     P106    Q36834\n",
       "32884  Q208681     P106   Q855091\n",
       "32885  Q298209     P136   Q842324\n",
       "32886    Q9204     P106  Q1622272\n",
       "32887   Q58062     P509    Q12202\n",
       "\n",
       "[32888 rows x 3 columns]"
      ]
     },
     "execution_count": 22,
     "metadata": {},
     "output_type": "execute_result"
    }
   ],
   "source": [
    "codex = Codex(size='s', code='en')\n",
    "random.seed(42)\n",
    "train = codex.split('train')\n",
    "train"
   ]
  },
  {
   "cell_type": "code",
   "execution_count": 23,
   "metadata": {},
   "outputs": [],
   "source": [
    "# sampled_triple = train.sample(n=1).squeeze()\n",
    "# sampled_triple"
   ]
  },
  {
   "cell_type": "code",
   "execution_count": 24,
   "metadata": {},
   "outputs": [],
   "source": [
    "# start_node = sampled_triple['head']\n",
    "# path_df = dfs_triples_limit(df = train, start_node = start_node, max_triples=10, reverse=False)\n",
    "# path_df"
   ]
  },
  {
   "cell_type": "code",
   "execution_count": 25,
   "metadata": {},
   "outputs": [],
   "source": [
    "df = train.sample(n=2500)"
   ]
  },
  {
   "cell_type": "code",
   "execution_count": 26,
   "metadata": {},
   "outputs": [],
   "source": [
    "G = nx.MultiDiGraph()  # 使用有向多重图\n",
    "for _, row in df.iterrows():\n",
    "    head, relation, tail = codex.entity_label(row['head']), codex.relation_label(row['relation']), codex.entity_label(row['tail'])\n",
    "    G.add_edge(head, tail, label=relation)\n",
    "    \n"
   ]
  },
  {
   "cell_type": "code",
   "execution_count": 27,
   "metadata": {},
   "outputs": [],
   "source": [
    "# pos = nx.spring_layout(G)  # 为了美观，使用spring布局\n",
    "# plt.figure(figsize=(12, 8))\n",
    "# nx.draw_networkx_nodes(G, pos, node_size=2000, node_color='skyblue', alpha=0.6)\n",
    "\n",
    "# edges = nx.draw_networkx_edges(G, pos, arrowstyle='->', arrowsize=20)\n",
    "\n",
    "# nx.draw_networkx_labels(G, pos, font_size=5, font_family='sans-serif')\n",
    "\n",
    "# edge_labels = dict(((u, v), d['label']) for u, v, d in G.edges(data=True))\n",
    "# nx.draw_networkx_edge_labels(G, pos, edge_labels=edge_labels, label_pos=0.3, font_size=5)\n",
    "\n",
    "# plt.axis('off')\n",
    "# plt.show()"
   ]
  },
  {
   "cell_type": "code",
   "execution_count": 28,
   "metadata": {},
   "outputs": [],
   "source": [
    "\n",
    "# pos = nx.kamada_kawai_layout(G)  # 使用kamada_kawai布局算法\n",
    "# plt.figure(figsize=(20, 20))  # 增大图形总体大小\n",
    "\n",
    "# # 画节点\n",
    "# nx.draw_networkx_nodes(G, pos, node_size=1000, node_color='skyblue', alpha=0.6)\n",
    "\n",
    "# # 画边，可以增加曲线的弯曲程度来避免重叠\n",
    "# edges = nx.draw_networkx_edges(G, pos, arrowstyle='->', arrowsize=20, connectionstyle='arc3, rad=0.1')\n",
    "\n",
    "# # 画节点标签\n",
    "# nx.draw_networkx_labels(G, pos, font_size=10, font_family='sans-serif')\n",
    "\n",
    "# # 画边标签\n",
    "# edge_labels = dict(((u, v), d['label']) for u, v, d in G.edges(data=True))\n",
    "# nx.draw_networkx_edge_labels(G, pos, edge_labels=edge_labels, label_pos=0.3, font_size=7)\n",
    "\n",
    "# plt.axis('off')\n",
    "# plt.show()\n"
   ]
  },
  {
   "cell_type": "code",
   "execution_count": 29,
   "metadata": {},
   "outputs": [
    {
     "name": "stdout",
     "output_type": "stream",
     "text": [
      "Warning: When  cdn_resources is 'local' jupyter notebook has issues displaying graphics on chrome/safari. Use cdn_resources='in_line' or cdn_resources='remote' if you have issues viewing graphics in a notebook.\n"
     ]
    }
   ],
   "source": [
    "from pyvis.network import Network\n",
    "\n",
    "net = Network(notebook=True, height=\"750px\", width=\"100%\", bgcolor=\"#222222\", font_color=\"white\")\n",
    "\n",
    "for index, row in df.iterrows():\n",
    "    src = codex.entity_label(row['head'])\n",
    "    dst = codex.entity_label(row['tail'])\n",
    "    relation = codex.relation_label(row['relation'])\n",
    "\n",
    "    # 添加包含标签的节点，如果节点已经存在则不会重复添加\n",
    "    net.add_node(src, label=src, title=src)\n",
    "    net.add_node(dst, label=dst, title=dst)\n",
    "    # 添加边，包含关系作为标题\n",
    "    net.add_edge(src, dst, title=relation)\n",
    "    \n"
   ]
  },
  {
   "cell_type": "code",
   "execution_count": 30,
   "metadata": {},
   "outputs": [
    {
     "name": "stdout",
     "output_type": "stream",
     "text": [
      "mygraph.html\n"
     ]
    },
    {
     "data": {
      "text/html": [
       "\n",
       "        <iframe\n",
       "            width=\"100%\"\n",
       "            height=\"750px\"\n",
       "            src=\"mygraph.html\"\n",
       "            frameborder=\"0\"\n",
       "            allowfullscreen\n",
       "            \n",
       "        ></iframe>\n",
       "        "
      ],
      "text/plain": [
       "<IPython.lib.display.IFrame at 0x7f8ad92fd850>"
      ]
     },
     "execution_count": 30,
     "metadata": {},
     "output_type": "execute_result"
    }
   ],
   "source": [
    "with open('vis_option.json', 'r') as options_file:\n",
    "    options_json = options_file.read()\n",
    "\n",
    "# 应用这些选项\n",
    "net.set_options(options_json)\n",
    "\n",
    "# 显示网络图\n",
    "net.show(\"mygraph.html\")"
   ]
  }
 ],
 "metadata": {
  "kernelspec": {
   "display_name": "research",
   "language": "python",
   "name": "python3"
  },
  "language_info": {
   "codemirror_mode": {
    "name": "ipython",
    "version": 3
   },
   "file_extension": ".py",
   "mimetype": "text/x-python",
   "name": "python",
   "nbconvert_exporter": "python",
   "pygments_lexer": "ipython3",
   "version": "3.8.16"
  }
 },
 "nbformat": 4,
 "nbformat_minor": 2
}
