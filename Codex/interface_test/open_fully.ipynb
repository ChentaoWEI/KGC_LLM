{
 "cells": [
  {
   "cell_type": "code",
   "execution_count": 11,
   "metadata": {},
   "outputs": [],
   "source": [
    "import random\n",
    "import warnings\n",
    "warnings.filterwarnings(\"ignore\")\n",
    "\n",
    "import numpy as np\n",
    "import pandas as pd\n",
    "\n",
    "from codex.codex import Codex\n",
    "from utils import bfs_depth_limit, get_info\n",
    "\n",
    "sizes = Codex.SIZES\n",
    "codes = Codex.CODES\n",
    "\n",
    "codex = Codex(size='s', code='en')\n",
    "random.seed(42)\n",
    "invalid = codex.negative_split('valid')\n",
    "valid = codex.split('valid')\n",
    "train = codex.split('train')\n"
   ]
  },
  {
   "cell_type": "code",
   "execution_count": 12,
   "metadata": {},
   "outputs": [],
   "source": [
    "sampled_triple = valid.sample(n=1).squeeze()\n",
    "relative_triples = bfs_depth_limit(train, sampled_triple['head'], reverse= False, max_depth = 0)\n",
    "tail = codex.entity_label(sampled_triple['tail'])\n",
    "head = codex.entity_label(sampled_triple['head'])\n",
    "relation = codex.relation_label(sampled_triple['relation'])"
   ]
  },
  {
   "cell_type": "code",
   "execution_count": 13,
   "metadata": {},
   "outputs": [],
   "source": [
    "info_prompt = get_info(relative_triples,codex)\n",
    "instruction_prompt = \"Given the following information as reference and according to common sense, please answer the following questions.\\n\"\n",
    "reference_prompt = f\"Reference:\\n {info_prompt}\\n\"\n",
    "question_prompt = f\"Can you infer any other triples with head: {head}\"\n",
    "prompt = instruction_prompt + reference_prompt + question_prompt"
   ]
  },
  {
   "cell_type": "code",
   "execution_count": 14,
   "metadata": {},
   "outputs": [],
   "source": [
    "with open('prompts/prompt_board.txt', 'w') as f:\n",
    "    f.write(prompt)"
   ]
  },
  {
   "cell_type": "code",
   "execution_count": 15,
   "metadata": {},
   "outputs": [
    {
     "name": "stdout",
     "output_type": "stream",
     "text": [
      "head: George Eliot, relation: ethnic group, tail: English people\n"
     ]
    }
   ],
   "source": [
    "print(f\"head: {head}, relation: {relation}, tail: {tail}\")"
   ]
  }
 ],
 "metadata": {
  "kernelspec": {
   "display_name": "research",
   "language": "python",
   "name": "python3"
  },
  "language_info": {
   "codemirror_mode": {
    "name": "ipython",
    "version": 3
   },
   "file_extension": ".py",
   "mimetype": "text/x-python",
   "name": "python",
   "nbconvert_exporter": "python",
   "pygments_lexer": "ipython3",
   "version": "3.8.16"
  }
 },
 "nbformat": 4,
 "nbformat_minor": 2
}
