{
 "cells": [
  {
   "cell_type": "code",
   "execution_count": 71,
   "metadata": {},
   "outputs": [
    {
     "data": {
      "text/html": [
       "<div>\n",
       "<style scoped>\n",
       "    .dataframe tbody tr th:only-of-type {\n",
       "        vertical-align: middle;\n",
       "    }\n",
       "\n",
       "    .dataframe tbody tr th {\n",
       "        vertical-align: top;\n",
       "    }\n",
       "\n",
       "    .dataframe thead th {\n",
       "        text-align: right;\n",
       "    }\n",
       "</style>\n",
       "<table border=\"1\" class=\"dataframe\">\n",
       "  <thead>\n",
       "    <tr style=\"text-align: right;\">\n",
       "      <th></th>\n",
       "      <th>head</th>\n",
       "      <th>relation</th>\n",
       "      <th>tail</th>\n",
       "    </tr>\n",
       "  </thead>\n",
       "  <tbody>\n",
       "    <tr>\n",
       "      <th>0</th>\n",
       "      <td>Q928</td>\n",
       "      <td>P530</td>\n",
       "      <td>Q41</td>\n",
       "    </tr>\n",
       "    <tr>\n",
       "      <th>1</th>\n",
       "      <td>Q443897</td>\n",
       "      <td>P101</td>\n",
       "      <td>Q207628</td>\n",
       "    </tr>\n",
       "    <tr>\n",
       "      <th>2</th>\n",
       "      <td>Q1014</td>\n",
       "      <td>P530</td>\n",
       "      <td>Q148</td>\n",
       "    </tr>\n",
       "    <tr>\n",
       "      <th>3</th>\n",
       "      <td>Q187019</td>\n",
       "      <td>P106</td>\n",
       "      <td>Q18844224</td>\n",
       "    </tr>\n",
       "    <tr>\n",
       "      <th>4</th>\n",
       "      <td>Q148</td>\n",
       "      <td>P530</td>\n",
       "      <td>Q31</td>\n",
       "    </tr>\n",
       "    <tr>\n",
       "      <th>...</th>\n",
       "      <td>...</td>\n",
       "      <td>...</td>\n",
       "      <td>...</td>\n",
       "    </tr>\n",
       "    <tr>\n",
       "      <th>1822</th>\n",
       "      <td>Q299138</td>\n",
       "      <td>P106</td>\n",
       "      <td>Q2252262</td>\n",
       "    </tr>\n",
       "    <tr>\n",
       "      <th>1823</th>\n",
       "      <td>Q41</td>\n",
       "      <td>P463</td>\n",
       "      <td>Q41550</td>\n",
       "    </tr>\n",
       "    <tr>\n",
       "      <th>1824</th>\n",
       "      <td>Q214548</td>\n",
       "      <td>P27</td>\n",
       "      <td>Q30</td>\n",
       "    </tr>\n",
       "    <tr>\n",
       "      <th>1825</th>\n",
       "      <td>Q365042</td>\n",
       "      <td>P106</td>\n",
       "      <td>Q36834</td>\n",
       "    </tr>\n",
       "    <tr>\n",
       "      <th>1826</th>\n",
       "      <td>Q750</td>\n",
       "      <td>P530</td>\n",
       "      <td>Q241</td>\n",
       "    </tr>\n",
       "  </tbody>\n",
       "</table>\n",
       "<p>1827 rows × 3 columns</p>\n",
       "</div>"
      ],
      "text/plain": [
       "         head relation       tail\n",
       "0        Q928     P530        Q41\n",
       "1     Q443897     P101    Q207628\n",
       "2       Q1014     P530       Q148\n",
       "3     Q187019     P106  Q18844224\n",
       "4        Q148     P530        Q31\n",
       "...       ...      ...        ...\n",
       "1822  Q299138     P106   Q2252262\n",
       "1823      Q41     P463     Q41550\n",
       "1824  Q214548      P27        Q30\n",
       "1825  Q365042     P106     Q36834\n",
       "1826     Q750     P530       Q241\n",
       "\n",
       "[1827 rows x 3 columns]"
      ]
     },
     "execution_count": 71,
     "metadata": {},
     "output_type": "execute_result"
    }
   ],
   "source": [
    "import random\n",
    "import warnings\n",
    "warnings.filterwarnings(\"ignore\")\n",
    "\n",
    "import numpy as np\n",
    "import pandas as pd\n",
    "\n",
    "from codex.codex import Codex\n",
    "from utils import bfs_depth_limit, get_info, bfs_node_limit\n",
    "\n",
    "sizes = Codex.SIZES\n",
    "codes = Codex.CODES\n",
    "\n",
    "codex = Codex(size='s', code='en')\n",
    "random.seed(42)\n",
    "invalid = codex.negative_split('valid')\n",
    "valid = codex.split('valid')\n",
    "train = codex.split('train')\n",
    "valid"
   ]
  },
  {
   "cell_type": "code",
   "execution_count": 72,
   "metadata": {},
   "outputs": [],
   "source": [
    "sampled_triple = valid.sample(n=1).squeeze()"
   ]
  },
  {
   "cell_type": "code",
   "execution_count": 73,
   "metadata": {},
   "outputs": [],
   "source": [
    "# relative_triples = bfs_depth_limit(train, sampled_triple['head'], reverse= False, max_depth = 0)\n",
    "# relative_triples_2 = bfs_depth_limit(train, sampled_triple['tail'], reverse= True, max_depth = 0)\n",
    "relative_triples = bfs_node_limit(train, sampled_triple['head'], max_nodes=5,reverse= False)\n",
    "relative_triples_2 = bfs_node_limit(train, sampled_triple['tail'], max_nodes=5,reverse= True)\n",
    "info_prompt = get_info(relative_triples,codex)\n",
    "info_prompt_2 = get_info(relative_triples_2,codex)\n",
    "tail = codex.entity_label(sampled_triple['tail'])\n",
    "head = codex.entity_label(sampled_triple['head'])\n",
    "relation = codex.relation_label(sampled_triple['relation'])"
   ]
  },
  {
   "cell_type": "code",
   "execution_count": 74,
   "metadata": {},
   "outputs": [],
   "source": [
    "head_prompt = \"Given the following information as references.\\n\"\n",
    "reference_prompt = f\"Reference 1:\\n{info_prompt}\\nReference 2:\\n{info_prompt_2}\\n\"\n",
    "question_prompt = f\"Question: Is the following triple True or False?\\nhead: {head}, relation: {relation}, tail: {tail}\\n\"\n",
    "instructions = \"Please note that you don't have to limit yourself to the references provided. You can use any information you have to answer the question.\\n\"\n",
    "prompt = head_prompt + reference_prompt + question_prompt + instructions"
   ]
  },
  {
   "cell_type": "code",
   "execution_count": 75,
   "metadata": {},
   "outputs": [],
   "source": [
    "with open('prompts/prompt_board.txt', 'w') as f:\n",
    "    f.write(prompt)"
   ]
  },
  {
   "cell_type": "code",
   "execution_count": 76,
   "metadata": {},
   "outputs": [
    {
     "data": {
      "text/plain": [
       "'Poland'"
      ]
     },
     "execution_count": 76,
     "metadata": {},
     "output_type": "execute_result"
    }
   ],
   "source": [
    "codex.entity_label(sampled_triple['head'])"
   ]
  },
  {
   "cell_type": "code",
   "execution_count": 77,
   "metadata": {},
   "outputs": [
    {
     "data": {
      "text/plain": [
       "'Council of Europe'"
      ]
     },
     "execution_count": 77,
     "metadata": {},
     "output_type": "execute_result"
    }
   ],
   "source": [
    "codex.entity_label(sampled_triple['tail'])"
   ]
  },
  {
   "cell_type": "code",
   "execution_count": 78,
   "metadata": {},
   "outputs": [
    {
     "data": {
      "text/plain": [
       "'member of'"
      ]
     },
     "execution_count": 78,
     "metadata": {},
     "output_type": "execute_result"
    }
   ],
   "source": [
    "codex.relation_label(sampled_triple['relation'])"
   ]
  },
  {
   "cell_type": "code",
   "execution_count": 79,
   "metadata": {},
   "outputs": [],
   "source": [
    "# train = codex.split('train')\n",
    "# prompt_2 = find_paths_df_multi(codex, train=train, test_head = sampled_triple['head'], test_relation = sampled_triple['relation'], test_tail = sampled_triple['tail'])\n",
    "# prompt_2"
   ]
  }
 ],
 "metadata": {
  "kernelspec": {
   "display_name": "research",
   "language": "python",
   "name": "python3"
  },
  "language_info": {
   "codemirror_mode": {
    "name": "ipython",
    "version": 3
   },
   "file_extension": ".py",
   "mimetype": "text/x-python",
   "name": "python",
   "nbconvert_exporter": "python",
   "pygments_lexer": "ipython3",
   "version": "3.8.16"
  }
 },
 "nbformat": 4,
 "nbformat_minor": 2
}
