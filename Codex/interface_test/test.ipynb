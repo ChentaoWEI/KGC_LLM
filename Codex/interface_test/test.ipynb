{
 "cells": [
  {
   "cell_type": "code",
   "execution_count": 30,
   "metadata": {},
   "outputs": [],
   "source": [
    "import warnings\n",
    "warnings.filterwarnings(\"ignore\")\n",
    "\n",
    "import numpy as np\n",
    "import pandas as pd\n",
    "\n",
    "from codex.codex import Codex\n",
    "import random\n",
    "from utils import bfs_depth_limit, get_info"
   ]
  },
  {
   "cell_type": "code",
   "execution_count": 31,
   "metadata": {},
   "outputs": [
    {
     "name": "stdout",
     "output_type": "stream",
     "text": [
      "['s', 'm', 'l']\n",
      "['ar', 'de', 'en', 'es', 'ru', 'zh']\n"
     ]
    }
   ],
   "source": [
    "sizes = Codex.SIZES\n",
    "codes = Codex.CODES\n",
    "print(sizes)\n",
    "print(codes)"
   ]
  },
  {
   "cell_type": "code",
   "execution_count": 32,
   "metadata": {},
   "outputs": [],
   "source": [
    "codex = Codex(size='s', code='en')"
   ]
  },
  {
   "cell_type": "code",
   "execution_count": 33,
   "metadata": {},
   "outputs": [],
   "source": [
    "import os\n",
    "import random\n",
    "import json"
   ]
  },
  {
   "cell_type": "code",
   "execution_count": 34,
   "metadata": {},
   "outputs": [],
   "source": [
    "train = codex.split('train')\n",
    "valid = codex.split('valid')\n",
    "test = codex.split('test')"
   ]
  },
  {
   "cell_type": "code",
   "execution_count": 35,
   "metadata": {},
   "outputs": [
    {
     "data": {
      "text/plain": [
       "head        Q858\n",
       "relation    P530\n",
       "tail        Q458\n",
       "Name: 1602, dtype: object"
      ]
     },
     "execution_count": 35,
     "metadata": {},
     "output_type": "execute_result"
    }
   ],
   "source": [
    "sampled_triple = valid.sample(n=1).squeeze()\n",
    "sampled_triple"
   ]
  },
  {
   "cell_type": "code",
   "execution_count": 36,
   "metadata": {},
   "outputs": [],
   "source": [
    "relative_triples = bfs_depth_limit(train, sampled_triple['head'], reverse= False, max_depth = 0)\n",
    "relative_triples_2 = bfs_depth_limit(train, sampled_triple['tail'], reverse= True, max_depth = 0)"
   ]
  },
  {
   "cell_type": "code",
   "execution_count": 37,
   "metadata": {},
   "outputs": [
    {
     "name": "stdout",
     "output_type": "stream",
     "text": [
      "['languages spoken, written, or signed', 'cause of death', 'member of', 'occupation', 'sibling', 'diplomatic relation', 'continent', 'ethnic group', 'country of citizenship', 'employer', 'educated at', 'place of birth', 'influenced by', 'field of work', 'genre', 'record label', 'instrument', 'official language', 'unmarried partner', 'place of death', 'country', 'religion', 'movement', 'residence', 'spouse', 'member of political party', 'place of burial', 'part of', 'medical condition', 'child', 'time period', 'headquarters location', 'narrative location', 'location of formation', 'head of state', 'named after', 'parent organization', 'notable works', 'cast member', 'founded by', 'country of origin', 'practiced by']\n"
     ]
    }
   ],
   "source": [
    "train_relations_id = train['relation'].unique()\n",
    "train_relations = []\n",
    "for rid in train_relations_id:\n",
    "    train_relations.append(codex.relation_label(rid))\n",
    "print(train_relations)"
   ]
  },
  {
   "cell_type": "code",
   "execution_count": 38,
   "metadata": {},
   "outputs": [],
   "source": [
    "info_prompt = get_info(relative_triples,codex)\n",
    "info_prompt_2 = get_info(relative_triples_2,codex)\n",
    "tail = codex.entity_label(sampled_triple['tail'])\n",
    "head = codex.entity_label(sampled_triple['head'])\n",
    "relation = codex.relation_label(sampled_triple['relation'])\n",
    "\n",
    "prompt = f\"Is there any relations that can be inferred from head: {head} and tail: {tail}? Please choose all possible relations from relation set: {train_relations}. If there is no relation, please type 'no relation'.\\n\"\n",
    "# prompt = f\"Based on the following information and everything you know:\\n{info_prompt}\\n{info_prompt_2}\\nIs there any relations that can be inferred from head: {head} and tail: {tail}? Please list all possible relations. If there is no relation, please type 'no relation'.\\n\"\n",
    "# prompt = f\"Is there any heads that can be inferred from relation: {relation} and tail: {tail}? Please list all possible heads. If there are no such heads, please type 'no heads'.\\n\"\n",
    "with open('prompts/prompt_board.txt', 'w') as f:\n",
    "    f.write(prompt)"
   ]
  },
  {
   "cell_type": "code",
   "execution_count": 39,
   "metadata": {},
   "outputs": [
    {
     "name": "stdout",
     "output_type": "stream",
     "text": [
      "Syria [diplomatic relation] European Union.\n"
     ]
    }
   ],
   "source": [
    "print(f\"{head} [{relation}] {tail}.\")"
   ]
  },
  {
   "cell_type": "code",
   "execution_count": 40,
   "metadata": {},
   "outputs": [
    {
     "data": {
      "text/plain": [
       "42"
      ]
     },
     "execution_count": 40,
     "metadata": {},
     "output_type": "execute_result"
    }
   ],
   "source": [
    "train['relation'].nunique()"
   ]
  },
  {
   "cell_type": "code",
   "execution_count": 41,
   "metadata": {},
   "outputs": [
    {
     "data": {
      "text/plain": [
       "33"
      ]
     },
     "execution_count": 41,
     "metadata": {},
     "output_type": "execute_result"
    }
   ],
   "source": [
    "valid['relation'].nunique()"
   ]
  },
  {
   "cell_type": "code",
   "execution_count": 42,
   "metadata": {},
   "outputs": [
    {
     "data": {
      "text/plain": [
       "36"
      ]
     },
     "execution_count": 42,
     "metadata": {},
     "output_type": "execute_result"
    }
   ],
   "source": [
    "test['relation'].nunique()"
   ]
  },
  {
   "cell_type": "code",
   "execution_count": 43,
   "metadata": {},
   "outputs": [],
   "source": [
    "# validation_relations = valid['relation'].unique()\n",
    "# test_relations = test['relation'].unique()\n",
    "\n",
    "# unseen_relations_validation = validation_relations[~np.isin(validation_relations, train['relation'].unique())]\n",
    "# unseen_relations_test = test_relations[~np.isin(test_relations, train['relation'].unique())]\n",
    "\n",
    "# print(\"Unseen relations in validation set:\", len(unseen_relations_validation))\n",
    "# print(\"Unseen relations in test set:\", len(unseen_relations_test))"
   ]
  }
 ],
 "metadata": {
  "kernelspec": {
   "display_name": "research",
   "language": "python",
   "name": "python3"
  },
  "language_info": {
   "codemirror_mode": {
    "name": "ipython",
    "version": 3
   },
   "file_extension": ".py",
   "mimetype": "text/x-python",
   "name": "python",
   "nbconvert_exporter": "python",
   "pygments_lexer": "ipython3",
   "version": "3.8.16"
  }
 },
 "nbformat": 4,
 "nbformat_minor": 2
}
